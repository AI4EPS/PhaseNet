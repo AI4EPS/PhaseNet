{
 "cells": [
  {
   "cell_type": "code",
   "execution_count": 1,
   "metadata": {},
   "outputs": [],
   "source": [
    "import os\n",
    "import obspy\n",
    "from obspy import UTCDateTime\n",
    "from obspy.clients.fdsn import Client"
   ]
  },
  {
   "cell_type": "markdown",
   "metadata": {},
   "source": [
    "## 1. Download data using obspy"
   ]
  },
  {
   "cell_type": "code",
   "execution_count": 2,
   "metadata": {},
   "outputs": [],
   "source": [
    "client = Client(\"SCEDC\")\n",
    "data_dir = \"mseed\"\n",
    "if not os.path.exists(data_dir):\n",
    "  os.makedirs(data_dir)"
   ]
  },
  {
   "cell_type": "code",
   "execution_count": 3,
   "metadata": {},
   "outputs": [],
   "source": [
    "starttime = UTCDateTime(\"2019-07-04T17:00:00\")\n",
    "endtime = UTCDateTime(\"2019-07-05T00:00:00\")"
   ]
  },
  {
   "cell_type": "code",
   "execution_count": 4,
   "metadata": {},
   "outputs": [],
   "source": [
    "CCC = client.get_waveforms(\"CI\", \"CCC\", \"*\", \"HHE,HHN,HHZ\", starttime, endtime)\n",
    "CLC = client.get_waveforms(\"CI\", \"CLC\", \"*\", \"HHE,HHN,HHZ\", starttime, endtime)"
   ]
  },
  {
   "cell_type": "code",
   "execution_count": 5,
   "metadata": {},
   "outputs": [],
   "source": [
    "CCC.write(os.path.join(data_dir, \"CCC.mseed\"))\n",
    "CLC.write(os.path.join(data_dir, \"CLC.mseed\"))"
   ]
  },
  {
   "cell_type": "markdown",
   "metadata": {},
   "source": [
    "## 2. Prepare filename list"
   ]
  },
  {
   "cell_type": "code",
   "execution_count": 10,
   "metadata": {},
   "outputs": [],
   "source": [
    "with open(\"fname.csv\", 'w') as fp:\n",
    "  fp.write(\"fname,E,N,Z\\n\")\n",
    "  fp.write(\"CCC.mseed,HHE,HHN,HHZ\\n\")\n",
    "  fp.write(\"CLC.mseed,HHE,HHN,HHZ\\n\")"
   ]
  },
  {
   "cell_type": "code",
   "execution_count": 11,
   "metadata": {},
   "outputs": [
    {
     "name": "stdout",
     "output_type": "stream",
     "text": [
      "fname,E,N,Z\r\n",
      "CCC.mseed,HHE,HHN,HHZ\r\n",
      "CLC.mseed,HHE,HHN,HHZ\r\n"
     ]
    }
   ],
   "source": [
    "!cat fname.csv"
   ]
  },
  {
   "cell_type": "markdown",
   "metadata": {},
   "source": [
    "## 3. Run PhaseNet\n",
    "\n",
    "```bash\n",
    "python run.py --mode=pred --model_dir=model/190703-214543 --data_dir=demo/mseed --data_list=demo/fname.csv --output_dir=output --batch_size=20 --input_mseed\n",
    "```\n",
    "\n",
    "\n",
    "Check figures of waveform and predictions:\n",
    "```bash\n",
    "python run.py --mode=pred --model_dir=model/190703-214543 --data_dir=demo/mseed --data_list=demo/fname.csv --output_dir=output --plot_figure --batch_size=20 --input_mseed\n",
    "```"
   ]
  },
  {
   "cell_type": "code",
   "execution_count": null,
   "metadata": {},
   "outputs": [],
   "source": []
  }
 ],
 "metadata": {
  "jupytext": {
   "text_representation": {
    "extension": ".py",
    "format_name": "light",
    "format_version": "1.4",
    "jupytext_version": "1.2.4"
   }
  },
  "kernelspec": {
   "display_name": "Python 3",
   "language": "python",
   "name": "python3"
  },
  "language_info": {
   "codemirror_mode": {
    "name": "ipython",
    "version": 3
   },
   "file_extension": ".py",
   "mimetype": "text/x-python",
   "name": "python",
   "nbconvert_exporter": "python",
   "pygments_lexer": "ipython3",
   "version": "3.6.10"
  }
 },
 "nbformat": 4,
 "nbformat_minor": 2
}
