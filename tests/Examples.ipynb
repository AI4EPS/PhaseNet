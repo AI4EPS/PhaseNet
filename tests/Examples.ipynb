{
 "cells": [
  {
   "cell_type": "markdown",
   "id": "903ef1da-7471-41b5-8a50-41f1a87c8d3e",
   "metadata": {},
   "source": [
    "# Title 1\n",
    "\n",
    "## Title 1.1"
   ]
  },
  {
   "cell_type": "code",
   "execution_count": null,
   "id": "dfe6a3a0-d5ab-43de-9b61-a14f4104e715",
   "metadata": {},
   "outputs": [],
   "source": [
    "print(\"This is a test\")"
   ]
  },
  {
   "cell_type": "markdown",
   "id": "7cccc82a-3eb9-4752-a42d-5004d0bdfea4",
   "metadata": {},
   "source": [
    "## Title 1.2"
   ]
  },
  {
   "cell_type": "code",
   "execution_count": null,
   "id": "7c367716-4d24-4fee-a8d5-aca43d864491",
   "metadata": {},
   "outputs": [],
   "source": []
  }
 ],
 "metadata": {
  "kernelspec": {
   "display_name": "Python 3",
   "language": "python",
   "name": "python3"
  },
  "language_info": {
   "codemirror_mode": {
    "name": "ipython",
    "version": 3
   },
   "file_extension": ".py",
   "mimetype": "text/x-python",
   "name": "python",
   "nbconvert_exporter": "python",
   "pygments_lexer": "ipython3",
   "version": "3.7.9"
  }
 },
 "nbformat": 4,
 "nbformat_minor": 5
}
