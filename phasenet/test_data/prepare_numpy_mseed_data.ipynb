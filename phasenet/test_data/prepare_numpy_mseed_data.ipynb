{
 "cells": [
  {
   "cell_type": "code",
   "execution_count": 1,
   "id": "robust-satellite",
   "metadata": {
    "execution": {
     "iopub.execute_input": "2021-05-20T00:39:41.954574Z",
     "iopub.status.busy": "2021-05-20T00:39:41.954033Z",
     "iopub.status.idle": "2021-05-20T00:39:42.790696Z",
     "shell.execute_reply": "2021-05-20T00:39:42.789570Z",
     "shell.execute_reply.started": "2021-05-20T00:39:41.954529Z"
    }
   },
   "outputs": [],
   "source": [
    "from google.cloud import storage\n",
    "import os\n",
    "os.environ[\"GOOGLE_APPLICATION_CREDENTIALS\"] = \"/Users/weiqiang/.dotbot/cloud/quakeflow_wayne.json\"\n",
    "\n",
    "def download_blob(bucket_name, source_blob_name, destination_file_name):\n",
    "\n",
    "    storage_client = storage.Client()\n",
    "\n",
    "    bucket = storage_client.bucket(bucket_name)\n",
    "\n",
    "    blob = bucket.blob(source_blob_name)\n",
    "    blob.download_to_filename(destination_file_name)\n",
    "\n",
    "    print(\"Blob {} downloaded to {}.\".format(source_blob_name, destination_file_name))"
   ]
  },
  {
   "cell_type": "code",
   "execution_count": 3,
   "id": "indian-cincinnati",
   "metadata": {
    "execution": {
     "iopub.execute_input": "2021-05-20T00:40:14.256557Z",
     "iopub.status.busy": "2021-05-20T00:40:14.256185Z",
     "iopub.status.idle": "2021-05-20T00:40:35.141220Z",
     "shell.execute_reply": "2021-05-20T00:40:35.140118Z",
     "shell.execute_reply.started": "2021-05-20T00:40:14.256512Z"
    }
   },
   "outputs": [
    {
     "name": "stdout",
     "output_type": "stream",
     "text": [
      "Blob catalogs/combined_phases.csv downloaded to combined_phases.csv.\n"
     ]
    }
   ],
   "source": [
    "download_blob(\"quakeflow\", \"catalogs/combined_phases.csv\", \"combined_phases.csv\")"
   ]
  },
  {
   "cell_type": "code",
   "execution_count": 4,
   "id": "detailed-belarus",
   "metadata": {
    "execution": {
     "iopub.execute_input": "2021-05-20T00:40:35.145571Z",
     "iopub.status.busy": "2021-05-20T00:40:35.144491Z",
     "iopub.status.idle": "2021-05-20T00:40:36.018513Z",
     "shell.execute_reply": "2021-05-20T00:40:36.017327Z",
     "shell.execute_reply.started": "2021-05-20T00:40:35.145515Z"
    }
   },
   "outputs": [],
   "source": [
    "import pandas as pd\n",
    "import h5py"
   ]
  },
  {
   "cell_type": "code",
   "execution_count": 5,
   "id": "appropriate-witch",
   "metadata": {
    "execution": {
     "iopub.execute_input": "2021-05-20T00:40:36.022750Z",
     "iopub.status.busy": "2021-05-20T00:40:36.022300Z",
     "iopub.status.idle": "2021-05-20T00:40:46.503730Z",
     "shell.execute_reply": "2021-05-20T00:40:46.503167Z",
     "shell.execute_reply.started": "2021-05-20T00:40:36.022703Z"
    }
   },
   "outputs": [],
   "source": [
    "catalogs = pd.read_csv(\"combined_phases.csv\", sep=\"\\t\", dtype=str)"
   ]
  },
  {
   "cell_type": "code",
   "execution_count": 12,
   "id": "musical-commerce",
   "metadata": {
    "execution": {
     "iopub.execute_input": "2021-05-20T00:43:22.963362Z",
     "iopub.status.busy": "2021-05-20T00:43:22.963039Z",
     "iopub.status.idle": "2021-05-20T00:43:23.082243Z",
     "shell.execute_reply": "2021-05-20T00:43:23.081422Z",
     "shell.execute_reply.started": "2021-05-20T00:43:22.963334Z"
    }
   },
   "outputs": [],
   "source": [
    "select_catalog = catalogs.sample(100, random_state=123)\n",
    "select_catalog.to_csv(\"selected_phases.csv\", sep=\"\\t\")"
   ]
  },
  {
   "cell_type": "code",
   "execution_count": 13,
   "id": "streaming-debut",
   "metadata": {
    "execution": {
     "iopub.execute_input": "2021-05-20T00:43:23.297620Z",
     "iopub.status.busy": "2021-05-20T00:43:23.297404Z",
     "iopub.status.idle": "2021-05-20T00:44:26.035250Z",
     "shell.execute_reply": "2021-05-20T00:44:26.033693Z",
     "shell.execute_reply.started": "2021-05-20T00:43:23.297597Z"
    }
   },
   "outputs": [
    {
     "name": "stdout",
     "output_type": "stream",
     "text": [
      "Blob data/NN.LHV..EH.0384064.npz downloaded to data/NN.LHV..EH.0384064.npz.\n",
      "Blob data/NC.MCV..EH.0361339.npz downloaded to data/NC.MCV..EH.0361339.npz.\n",
      "Blob data/NC.JSJ..HN.0352874.npz downloaded to data/NC.JSJ..HN.0352874.npz.\n",
      "Blob data/NC.MDH1..DP.0276949.npz downloaded to data/NC.MDH1..DP.0276949.npz.\n",
      "Blob data/BG.NEG..DP.0343655.npz downloaded to data/BG.NEG..DP.0343655.npz.\n",
      "Blob data/NC.C029.01.HN.0335084.npz downloaded to data/NC.C029.01.HN.0335084.npz.\n",
      "Blob data/NC.GAX..EH.0169422.npz downloaded to data/NC.GAX..EH.0169422.npz.\n",
      "Blob data/BK.DANT.00.BH.0373267.npz downloaded to data/BK.DANT.00.BH.0373267.npz.\n",
      "Blob data/PB.B045..EH.0385872.npz downloaded to data/PB.B045..EH.0385872.npz.\n",
      "Blob data/BG.ACR..DP.0346833.npz downloaded to data/BG.ACR..DP.0346833.npz.\n",
      "Blob data/BG.SQK..DP.0399575.npz downloaded to data/BG.SQK..DP.0399575.npz.\n",
      "Blob data/NC.MDY..HN.0376095.npz downloaded to data/NC.MDY..HN.0376095.npz.\n",
      "Blob data/NC.MDH1..DP.0412729.npz downloaded to data/NC.MDH1..DP.0412729.npz.\n",
      "Blob data/NC.NLH..EH.0393054.npz downloaded to data/NC.NLH..EH.0393054.npz.\n",
      "Blob data/TA.P01C..BH.0201171.npz downloaded to data/TA.P01C..BH.0201171.npz.\n",
      "Blob data/PB.B046..EH.0283603.npz downloaded to data/PB.B046..EH.0283603.npz.\n",
      "Blob data/BG.ACR..DP.0215954.npz downloaded to data/BG.ACR..DP.0215954.npz.\n",
      "Blob data/NN.OMMB..HN.0360784.npz downloaded to data/NN.OMMB..HN.0360784.npz.\n",
      "Blob data/NC.KMP..EL.0121778.npz downloaded to data/NC.KMP..EL.0121778.npz.\n",
      "Blob data/NN.BHP..SH.0237761.npz downloaded to data/NN.BHP..SH.0237761.npz.\n",
      "Blob data/NC.BSG..EL.0091058.npz downloaded to data/NC.BSG..EL.0091058.npz.\n",
      "Blob data/NC.CDV..EL.0048328.npz downloaded to data/NC.CDV..EL.0048328.npz.\n",
      "Blob data/NC.GDXB..HN.0244608.npz downloaded to data/NC.GDXB..HN.0244608.npz.\n",
      "Blob data/NC.MCM.02.EH.0105613.npz downloaded to data/NC.MCM.02.EH.0105613.npz.\n",
      "Blob data/BK.MHC.00.BH.0255749.npz downloaded to data/BK.MHC.00.BH.0255749.npz.\n",
      "Blob data/NP.1582..HN.0369499.npz downloaded to data/NP.1582..HN.0369499.npz.\n",
      "Blob data/BK.BRIB..HH.0223041.npz downloaded to data/BK.BRIB..HH.0223041.npz.\n",
      "Blob data/BG.HER..DP.0254197.npz downloaded to data/BG.HER..DP.0254197.npz.\n",
      "Blob data/NC.GDXB..HN.0415528.npz downloaded to data/NC.GDXB..HN.0415528.npz.\n",
      "Blob data/NC.MDP..EH.0125164.npz downloaded to data/NC.MDP..EH.0125164.npz.\n",
      "Blob data/BG.RGP..DP.0279913.npz downloaded to data/BG.RGP..DP.0279913.npz.\n",
      "Blob data/NC.SN03.01.HN.0315477.npz downloaded to data/NC.SN03.01.HN.0315477.npz.\n",
      "Blob data/NC.BJOB..EH.0224433.npz downloaded to data/NC.BJOB..EH.0224433.npz.\n",
      "Blob data/PG.WRD..EH.0309999.npz downloaded to data/PG.WRD..EH.0309999.npz.\n",
      "Blob data/CI.BAR..BH.0267435.npz downloaded to data/CI.BAR..BH.0267435.npz.\n",
      "Blob data/NC.MMT..EH.0261550.npz downloaded to data/NC.MMT..EH.0261550.npz.\n",
      "Blob data/NC.CCH1..EP.0332038.npz downloaded to data/NC.CCH1..EP.0332038.npz.\n",
      "Blob data/NC.HBT..EL.0253179.npz downloaded to data/NC.HBT..EL.0253179.npz.\n",
      "Blob data/NC.MCM.02.EH.0255077.npz downloaded to data/NC.MCM.02.EH.0255077.npz.\n",
      "Blob data/NC.JSB..HN.0405110.npz downloaded to data/NC.JSB..HN.0405110.npz.\n",
      "Blob data/NC.MCM.02.EH.0299347.npz downloaded to data/NC.MCM.02.EH.0299347.npz.\n",
      "Blob data/NC.JBR..EH.0189964.npz downloaded to data/NC.JBR..EH.0189964.npz.\n",
      "Blob data/PG.AR..EH.0170022.npz downloaded to data/PG.AR..EH.0170022.npz.\n",
      "Blob data/NC.GWR..EH.0318009.npz downloaded to data/NC.GWR..EH.0318009.npz.\n",
      "Blob data/NC.BBGB..HH.0264185.npz downloaded to data/NC.BBGB..HH.0264185.npz.\n",
      "Blob data/CI.ISA..BH.0204717.npz downloaded to data/CI.ISA..BH.0204717.npz.\n",
      "Blob data/NC.MMT..EH.0365369.npz downloaded to data/NC.MMT..EH.0365369.npz.\n",
      "Blob data/NC.LSI..EH.0321126.npz downloaded to data/NC.LSI..EH.0321126.npz.\n",
      "Blob data/BG.AL6..DP.0301915.npz downloaded to data/BG.AL6..DP.0301915.npz.\n",
      "Blob data/PG.LMD..EH.0259174.npz downloaded to data/PG.LMD..EH.0259174.npz.\n",
      "Blob data/NN.SCH..EH.0337546.npz downloaded to data/NN.SCH..EH.0337546.npz.\n",
      "Blob data/NC.MDPB..HN.0406303.npz downloaded to data/NC.MDPB..HN.0406303.npz.\n",
      "Blob data/NN.SLK.N1.EH.0137316.npz downloaded to data/NN.SLK.N1.EH.0137316.npz.\n",
      "Blob data/BG.TCH..DP.0283495.npz downloaded to data/BG.TCH..DP.0283495.npz.\n",
      "Blob data/BK.CVS.00.HH.0345771.npz downloaded to data/BK.CVS.00.HH.0345771.npz.\n",
      "Blob data/NC.CCOB..HN.0286177.npz downloaded to data/NC.CCOB..HN.0286177.npz.\n",
      "Blob data/BG.DRK..DP.0351524.npz downloaded to data/BG.DRK..DP.0351524.npz.\n",
      "Blob data/NC.MEM..EH.0112429.npz downloaded to data/NC.MEM..EH.0112429.npz.\n",
      "Blob data/NC.LBK..EH.0140741.npz downloaded to data/NC.LBK..EH.0140741.npz.\n",
      "Blob data/NC.GDXB..HN.0211075.npz downloaded to data/NC.GDXB..HN.0211075.npz.\n",
      "Blob data/NC.PADB..SH.0188430.npz downloaded to data/NC.PADB..SH.0188430.npz.\n",
      "Blob data/PG.PB..EH.0163793.npz downloaded to data/PG.PB..EH.0163793.npz.\n",
      "Blob data/CI.TIN..HH.0279511.npz downloaded to data/CI.TIN..HH.0279511.npz.\n",
      "Blob data/NC.MCB..HH.0227959.npz downloaded to data/NC.MCB..HH.0227959.npz.\n",
      "Blob data/NC.BBGB..HH.0363645.npz downloaded to data/NC.BBGB..HH.0363645.npz.\n",
      "Blob data/PB.B065..EH.0398802.npz downloaded to data/PB.B065..EH.0398802.npz.\n",
      "Blob data/NC.GDXB..HN.0221288.npz downloaded to data/NC.GDXB..HN.0221288.npz.\n",
      "Blob data/CI.SMM..BH.0392114.npz downloaded to data/CI.SMM..BH.0392114.npz.\n",
      "Blob data/NC.BJOB..HN.0244462.npz downloaded to data/NC.BJOB..HN.0244462.npz.\n",
      "Blob data/NN.SCH.N1.EH.0058663.npz downloaded to data/NN.SCH.N1.EH.0058663.npz.\n",
      "Blob data/NC.MDH..HN.0358192.npz downloaded to data/NC.MDH..HN.0358192.npz.\n",
      "Blob data/NC.MRD.02.EH.0234076.npz downloaded to data/NC.MRD.02.EH.0234076.npz.\n",
      "Blob data/NC.GDXB..HN.0359676.npz downloaded to data/NC.GDXB..HN.0359676.npz.\n",
      "Blob data/CI.PLM..BH.0275107.npz downloaded to data/CI.PLM..BH.0275107.npz.\n",
      "Blob data/BK.SCZ.00.HN.0401413.npz downloaded to data/BK.SCZ.00.HN.0401413.npz.\n",
      "Blob data/CI.ISA..BH.0269915.npz downloaded to data/CI.ISA..BH.0269915.npz.\n",
      "Blob data/NC.MQ1P..EH.0394787.npz downloaded to data/NC.MQ1P..EH.0394787.npz.\n",
      "Blob data/NC.MRD.02.EH.0245623.npz downloaded to data/NC.MRD.02.EH.0245623.npz.\n",
      "Blob data/NC.BAV..EH.0095557.npz downloaded to data/NC.BAV..EH.0095557.npz.\n",
      "Blob data/NC.MDP1..HN.0307332.npz downloaded to data/NC.MDP1..HN.0307332.npz.\n",
      "Blob data/NC.HQR..EH.0047674.npz downloaded to data/NC.HQR..EH.0047674.npz.\n",
      "Blob data/PG.LM..EH.0170871.npz downloaded to data/PG.LM..EH.0170871.npz.\n",
      "Blob data/NC.LRR..SH.0165278.npz downloaded to data/NC.LRR..SH.0165278.npz.\n",
      "Blob data/BK.HOPS.00.HH.0342567.npz downloaded to data/BK.HOPS.00.HH.0342567.npz.\n",
      "Blob data/BG.BRP..DP.0414480.npz downloaded to data/BG.BRP..DP.0414480.npz.\n",
      "Blob data/NC.MQ1P..EH.0273631.npz downloaded to data/NC.MQ1P..EH.0273631.npz.\n",
      "Blob data/NN.ORC.N1.EH.0038894.npz downloaded to data/NN.ORC.N1.EH.0038894.npz.\n",
      "Blob data/NC.CLCB..EH.0336071.npz downloaded to data/NC.CLCB..EH.0336071.npz.\n",
      "Blob data/NC.PMPB..HH.0291547.npz downloaded to data/NC.PMPB..HH.0291547.npz.\n",
      "Blob data/NC.HBT..EL.0121699.npz downloaded to data/NC.HBT..EL.0121699.npz.\n",
      "Blob data/BK.PKD.00.HN.0277003.npz downloaded to data/BK.PKD.00.HN.0277003.npz.\n",
      "Blob data/NC.MDH..HN.0371225.npz downloaded to data/NC.MDH..HN.0371225.npz.\n",
      "Blob data/BK.VAK.00.HH.0263144.npz downloaded to data/BK.VAK.00.HH.0263144.npz.\n",
      "Blob data/BG.STY..DP.0409927.npz downloaded to data/BG.STY..DP.0409927.npz.\n",
      "Blob data/NC.MTU.01.EH.0082790.npz downloaded to data/NC.MTU.01.EH.0082790.npz.\n",
      "Blob data/BG.EPR..DP.0252305.npz downloaded to data/BG.EPR..DP.0252305.npz.\n",
      "Blob data/NC.CHR..EH.0195970.npz downloaded to data/NC.CHR..EH.0195970.npz.\n",
      "Blob data/NC.MMP..EH.0396325.npz downloaded to data/NC.MMP..EH.0396325.npz.\n",
      "Blob data/NC.BJO..EH.0170855.npz downloaded to data/NC.BJO..EH.0170855.npz.\n",
      "Blob data/NC.GDXB..HH.0196056.npz downloaded to data/NC.GDXB..HH.0196056.npz.\n"
     ]
    }
   ],
   "source": [
    "if not os.path.exists(\"data\"):\n",
    "    os.mkdir(\"data\")\n",
    "for fname in select_catalog[\"fname\"]:\n",
    "    download_blob(\"quakeflow\", f\"data/{fname}\", f\"data/{fname}\")"
   ]
  },
  {
   "cell_type": "code",
   "execution_count": 14,
   "id": "indian-inflation",
   "metadata": {
    "execution": {
     "iopub.execute_input": "2021-05-20T00:44:26.038573Z",
     "iopub.status.busy": "2021-05-20T00:44:26.037955Z",
     "iopub.status.idle": "2021-05-20T00:44:29.154489Z",
     "shell.execute_reply": "2021-05-20T00:44:29.153758Z",
     "shell.execute_reply.started": "2021-05-20T00:44:26.038525Z"
    }
   },
   "outputs": [],
   "source": [
    "select_catalog.to_hdf('data.h5', '/catalog', mode='w', format='table', data_columns=True)\n",
    "with h5py.File(\"data.h5\", \"a\", libver='latest') as fp:\n",
    "#     catalog = fp.create_group(\"/catalog\")\n",
    "    data = fp.create_group(\"/data\")\n",
    "    for fname in select_catalog[\"fname\"]:\n",
    "        meta = np.load(f\"data/{fname}\")\n",
    "        ds = data.create_dataset(fname, data=meta[\"data\"], dtype=\"float32\")\n",
    "        for k in meta:\n",
    "            if k != \"data\":\n",
    "                if meta[k].dtype.type is np.str_:\n",
    "                    ds.attrs[k] = str(meta[k])\n",
    "                else:\n",
    "                    ds.attrs[k] = meta[k]"
   ]
  },
  {
   "cell_type": "code",
   "execution_count": 10,
   "id": "polyphonic-grove",
   "metadata": {
    "execution": {
     "iopub.execute_input": "2021-05-20T00:41:03.409465Z",
     "iopub.status.busy": "2021-05-20T00:41:03.409085Z",
     "iopub.status.idle": "2021-05-20T00:41:03.571671Z",
     "shell.execute_reply": "2021-05-20T00:41:03.557441Z",
     "shell.execute_reply.started": "2021-05-20T00:41:03.409423Z"
    }
   },
   "outputs": [
    {
     "name": "stdout",
     "output_type": "stream",
     "text": [
      "data [[ 0.0000000e+00  0.0000000e+00  4.3978863e-23]\n",
      " [ 0.0000000e+00  0.0000000e+00 -4.0226005e-24]\n",
      " [ 0.0000000e+00  0.0000000e+00 -5.8025358e-23]\n",
      " ...\n",
      " [ 0.0000000e+00  0.0000000e+00  3.0300390e-23]\n",
      " [ 0.0000000e+00  0.0000000e+00  1.2032863e-22]\n",
      " [ 0.0000000e+00  0.0000000e+00  2.4316828e-23]] float32 12000 True\n"
     ]
    },
    {
     "ename": "TypeError",
     "evalue": "len() of unsized object",
     "output_type": "error",
     "traceback": [
      "\u001b[0;31m---------------------------------------------------------------------------\u001b[0m",
      "\u001b[0;31mTypeError\u001b[0m                                 Traceback (most recent call last)",
      "\u001b[0;32m<ipython-input-10-68a068a6f488>\u001b[0m in \u001b[0;36m<module>\u001b[0;34m\u001b[0m\n\u001b[1;32m      2\u001b[0m     \u001b[0mmeta\u001b[0m \u001b[0;34m=\u001b[0m \u001b[0mnp\u001b[0m\u001b[0;34m.\u001b[0m\u001b[0mload\u001b[0m\u001b[0;34m(\u001b[0m\u001b[0;34mf\"data/{fname}\"\u001b[0m\u001b[0;34m)\u001b[0m\u001b[0;34m\u001b[0m\u001b[0;34m\u001b[0m\u001b[0m\n\u001b[1;32m      3\u001b[0m     \u001b[0;32mfor\u001b[0m \u001b[0mk\u001b[0m \u001b[0;32min\u001b[0m \u001b[0mmeta\u001b[0m\u001b[0;34m:\u001b[0m\u001b[0;34m\u001b[0m\u001b[0;34m\u001b[0m\u001b[0m\n\u001b[0;32m----> 4\u001b[0;31m         \u001b[0mprint\u001b[0m\u001b[0;34m(\u001b[0m\u001b[0mk\u001b[0m\u001b[0;34m,\u001b[0m \u001b[0mmeta\u001b[0m\u001b[0;34m[\u001b[0m\u001b[0mk\u001b[0m\u001b[0;34m]\u001b[0m\u001b[0;34m,\u001b[0m \u001b[0mmeta\u001b[0m\u001b[0;34m[\u001b[0m\u001b[0mk\u001b[0m\u001b[0;34m]\u001b[0m\u001b[0;34m.\u001b[0m\u001b[0mdtype\u001b[0m\u001b[0;34m,\u001b[0m\u001b[0mlen\u001b[0m\u001b[0;34m(\u001b[0m\u001b[0mmeta\u001b[0m\u001b[0;34m[\u001b[0m\u001b[0mk\u001b[0m\u001b[0;34m]\u001b[0m\u001b[0;34m)\u001b[0m\u001b[0;34m,\u001b[0m \u001b[0mhasattr\u001b[0m\u001b[0;34m(\u001b[0m\u001b[0mmeta\u001b[0m\u001b[0;34m[\u001b[0m\u001b[0mk\u001b[0m\u001b[0;34m]\u001b[0m\u001b[0;34m,\u001b[0m \u001b[0;34m\"__len__\"\u001b[0m\u001b[0;34m)\u001b[0m\u001b[0;34m)\u001b[0m\u001b[0;34m\u001b[0m\u001b[0;34m\u001b[0m\u001b[0m\n\u001b[0m\u001b[1;32m      5\u001b[0m     \u001b[0;32mbreak\u001b[0m\u001b[0;34m\u001b[0m\u001b[0;34m\u001b[0m\u001b[0m\n",
      "\u001b[0;31mTypeError\u001b[0m: len() of unsized object"
     ]
    }
   ],
   "source": [
    "for fname in select_catalog[\"fname\"]:\n",
    "    meta = np.load(f\"data/{fname}\")\n",
    "    for k in meta:\n",
    "        print(k, meta[k], meta[k].dtype,len(meta[k]), hasattr(meta[k], \"__len__\"))\n",
    "    break"
   ]
  },
  {
   "cell_type": "code",
   "execution_count": 11,
   "id": "alive-israeli",
   "metadata": {
    "execution": {
     "iopub.execute_input": "2021-05-20T00:41:18.446215Z",
     "iopub.status.busy": "2021-05-20T00:41:18.445917Z",
     "iopub.status.idle": "2021-05-20T00:41:18.514901Z",
     "shell.execute_reply": "2021-05-20T00:41:18.512243Z",
     "shell.execute_reply.started": "2021-05-20T00:41:18.446184Z"
    }
   },
   "outputs": [
    {
     "name": "stdout",
     "output_type": "stream",
     "text": [
      "['BG.ACR..DP.0346833.npz', 'BG.NEG..DP.0343655.npz', 'BK.DANT.00.BH.0373267.npz', 'NC.C029.01.HN.0335084.npz', 'NC.GAX..EH.0169422.npz', 'NC.JSJ..HN.0352874.npz', 'NC.MCV..EH.0361339.npz', 'NC.MDH1..DP.0276949.npz', 'NN.LHV..EH.0384064.npz', 'PB.B045..EH.0385872.npz']\n",
      "[4.55772313 4.40383979 1.08694338]\n",
      "[2.65475264 3.52927338 2.58486951]\n",
      "[1.03147117 1.01812326 0.90910357]\n",
      "[19.95741355 21.85599121 13.06807128]\n",
      "[1.         1.         1.78825248]\n",
      "[10.37468862 15.63222592 17.56807564]\n",
      "[1.         1.         3.21769929]\n",
      "[1.01823104 1.02137857 1.02093327]\n",
      "[1. 1. 1.]\n",
      "[5.97717719 3.32311816 5.04617698]\n"
     ]
    }
   ],
   "source": [
    "with h5py.File(\"data.h5\", \"r\", libver='latest', swmr=True) as fp:\n",
    "    print(list(fp['data'].keys()))\n",
    "    for k in fp['data'].keys():\n",
    "        print(fp[f\"data/{k}\"].attrs[\"snr\"])"
   ]
  },
  {
   "cell_type": "code",
   "execution_count": null,
   "id": "mobile-collaboration",
   "metadata": {
    "execution": {
     "iopub.status.busy": "2021-05-20T00:40:47.316124Z",
     "iopub.status.idle": "2021-05-20T00:40:47.316729Z"
    }
   },
   "outputs": [],
   "source": [
    "pd.read_hdf(\"data.h5\", \"/catalog\")"
   ]
  },
  {
   "cell_type": "code",
   "execution_count": null,
   "id": "automated-curve",
   "metadata": {},
   "outputs": [],
   "source": []
  }
 ],
 "metadata": {
  "kernelspec": {
   "display_name": "Python 3",
   "language": "python",
   "name": "python3"
  },
  "language_info": {
   "codemirror_mode": {
    "name": "ipython",
    "version": 3
   },
   "file_extension": ".py",
   "mimetype": "text/x-python",
   "name": "python",
   "nbconvert_exporter": "python",
   "pygments_lexer": "ipython3",
   "version": "3.8.2"
  }
 },
 "nbformat": 4,
 "nbformat_minor": 5
}
